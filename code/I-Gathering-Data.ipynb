{
 "cells": [
  {
   "cell_type": "markdown",
   "id": "5f597cc1-8986-43a4-9a66-69b41ab6ce94",
   "metadata": {},
   "source": [
    "# Project 3: Web APIs & NLP\n",
    "## Part I: Gathering Data"
   ]
  },
  {
   "cell_type": "markdown",
   "id": "c522770d-6f66-487b-842b-2d6673c46cc5",
   "metadata": {},
   "source": [
    "### 1. Import Libraries"
   ]
  },
  {
   "cell_type": "code",
   "execution_count": 1,
   "id": "f5130f7a-fbdd-4e99-a935-962a0a12b249",
   "metadata": {},
   "outputs": [],
   "source": [
    "import requests\n",
    "import pandas as pd\n",
    "import numpy as np"
   ]
  },
  {
   "cell_type": "markdown",
   "id": "7ab3e11f-f2b2-4da8-b386-4cc1b0850e57",
   "metadata": {},
   "source": [
    "### 2. Function to Get Pushshift Data"
   ]
  },
  {
   "cell_type": "code",
   "execution_count": 22,
   "id": "0d608e04-c055-4701-9b6d-8ca78a03479f",
   "metadata": {},
   "outputs": [],
   "source": [
    "# citation: W6 Monday Breakfast Hour - Using Pushshift API\n",
    "\n",
    "def get_pushshift_data(start, end, subreddit):\n",
    "    # URL\n",
    "    url = 'https://api.pushshift.io/reddit/search/submission/'\n",
    "    \n",
    "    # add params\n",
    "    params = {'subreddit' : subreddit, \n",
    "              'size' : 100,\n",
    "              'after' : start,\n",
    "              'before' : end,\n",
    "              'filter' : ['subreddit', 'selftext', 'title'],\n",
    "              'num_comments': '>0',\n",
    "              'score': '>5'\n",
    "             }\n",
    "                \n",
    "    # get the data\n",
    "    res = requests.get(url, params)\n",
    "                \n",
    "    try:\n",
    "    \n",
    "        # convert the request into a list of dict objects\n",
    "        data = res.json()\n",
    "    \n",
    "        # go deeper  \n",
    "        posts = data['data']\n",
    "    \n",
    "        #turn into DataFrame    \n",
    "        df_test = pd.DataFrame(posts)\n",
    "    \n",
    "        return df_test\n",
    "    except:\n",
    "       return pd.DataFrame()"
   ]
  },
  {
   "cell_type": "markdown",
   "id": "5d8290a7-5827-4616-aa3b-c3fef0777e00",
   "metadata": {},
   "source": [
    "### 3. Function to Get Crypto Coin Data"
   ]
  },
  {
   "cell_type": "code",
   "execution_count": 61,
   "id": "f19d0c30-d89a-44d2-9d45-7d924f731dfc",
   "metadata": {
    "tags": []
   },
   "outputs": [],
   "source": [
    "# # create Bitcoin DataFrames for years 2019-2021\n",
    "\n",
    "# # data from 2021\n",
    "# btc_2021_feb = get_pushshift_data('2021-02-01', '2021-10-15', 'bitcoin')\n",
    "# btc_2021_apr = get_pushshift_data('2021-04-01', '2021-10-15', 'bitcoin')\n",
    "# btc_2021_jun = get_pushshift_data('2021-06-01', '2021-10-15', 'bitcoin')\n",
    "# btc_2021_aug = get_pushshift_data('2021-08-01', '2021-10-15', 'bitcoin')\n",
    "# btc_2021_oct = get_pushshift_data('2021-10-01', '2021-10-15', 'bitcoin')\n",
    "# btc_2021_all = pd.concat([btc_2021_feb, btc_2021_apr, btc_2021_jun, btc_2021_aug, btc_2021_oct])\n",
    "\n",
    "# #data from 2020\n",
    "# btc_2020_feb = get_pushshift_data('2020-02-01', '2020-12-31', 'bitcoin')\n",
    "# btc_2020_apr = get_pushshift_data('2020-04-01', '2020-12-31', 'bitcoin')\n",
    "# btc_2020_jun = get_pushshift_data('2020-06-01', '2020-12-31', 'bitcoin')\n",
    "# btc_2020_aug = get_pushshift_data('2020-08-01', '2020-12-31', 'bitcoin')\n",
    "# btc_2020_oct = get_pushshift_data('2020-10-01', '2020-12-31', 'bitcoin')\n",
    "# btc_2020_dec = get_pushshift_data('2020-12-01', '2020-12-31', 'bitcoin')\n",
    "# btc_2020_all = pd.concat([btc_2020_feb, btc_2020_apr, btc_2020_jun, btc_2020_aug, btc_2020_oct, btc_2020_dec])\n",
    "\n",
    "# #data from 2019\n",
    "# btc_2019_feb = get_pushshift_data('2019-02-01', '2019-12-31', 'bitcoin')\n",
    "# btc_2019_apr = get_pushshift_data('2019-04-01', '2019-12-31', 'bitcoin')\n",
    "# btc_2019_jun = get_pushshift_data('2019-06-01', '2019-12-31', 'bitcoin')\n",
    "# btc_2019_aug = get_pushshift_data('2019-08-01', '2019-12-31', 'bitcoin')\n",
    "# btc_2019_oct = get_pushshift_data('2019-10-01', '2019-12-31', 'bitcoin')\n",
    "# btc_2019_dec = get_pushshift_data('2019-12-01', '2019-12-31', 'bitcoin')\n",
    "# btc_2019_all = pd.concat([btc_2019_feb, btc_2019_apr, btc_2019_jun, btc_2019_aug, btc_2019_oct, btc_2019_dec])"
   ]
  },
  {
   "cell_type": "code",
   "execution_count": 62,
   "id": "65cb975f-ed07-4f35-933e-1ef2843e43ca",
   "metadata": {},
   "outputs": [],
   "source": [
    "# # create Dogecoin DataFrames for years 2019-2021\n",
    "\n",
    "# # data from 2021\n",
    "# doge_2021_feb = get_pushshift_data('2021-02-01', '2021-10-15', 'dogecoin')\n",
    "# doge_2021_apr = get_pushshift_data('2021-04-01', '2021-10-15', 'dogecoin')\n",
    "# doge_2021_jun = get_pushshift_data('2021-06-01', '2021-10-15', 'dogecoin')\n",
    "# doge_2021_aug = get_pushshift_data('2021-08-01', '2021-10-15', 'dogecoin')\n",
    "# doge_2021_oct = get_pushshift_data('2021-10-01', '2021-10-15', 'dogecoin')\n",
    "# doge_2021_all = pd.concat([doge_2021_feb, doge_2021_apr, doge_2021_jun, doge_2021_aug, doge_2021_oct])\n",
    "\n",
    "# #data from 2020\n",
    "# doge_2020_feb = get_pushshift_data('2020-02-01', '2020-12-31', 'dogecoin')\n",
    "# doge_2020_apr = get_pushshift_data('2020-04-01', '2020-12-31', 'dogecoin')\n",
    "# doge_2020_jun = get_pushshift_data('2020-06-01', '2020-12-31', 'dogecoin')\n",
    "# doge_2020_aug = get_pushshift_data('2020-08-01', '2020-12-31', 'dogecoin')\n",
    "# doge_2020_oct = get_pushshift_data('2020-10-01', '2020-12-31', 'dogecoin')\n",
    "# doge_2020_dec = get_pushshift_data('2020-12-01', '2020-12-31', 'dogecoin')\n",
    "# doge_2020_all = pd.concat([doge_2020_feb, doge_2020_apr, doge_2020_jun, doge_2020_aug, doge_2020_oct, doge_2020_dec])\n",
    "\n",
    "# #data from 2019\n",
    "# doge_2019_feb = get_pushshift_data('2019-02-01', '2019-12-31', 'dogecoin')\n",
    "# doge_2019_apr = get_pushshift_data('2019-04-01', '2019-12-31', 'dogecoin')\n",
    "# doge_2019_jun = get_pushshift_data('2019-06-01', '2019-12-31', 'dogecoin')\n",
    "# doge_2019_aug = get_pushshift_data('2019-08-01', '2019-12-31', 'dogecoin')\n",
    "# doge_2019_oct = get_pushshift_data('2019-10-01', '2019-12-31', 'dogecoin')\n",
    "# doge_2019_dec = get_pushshift_data('2019-12-01', '2019-12-31', 'dogecoin')\n",
    "# doge_2019_all = pd.concat([doge_2019_feb, doge_2019_apr, doge_2019_jun, doge_2019_aug, doge_2019_oct, doge_2019_dec])"
   ]
  },
  {
   "cell_type": "markdown",
   "id": "13610cbf-d67a-43c3-afb1-1f5d2199d1fe",
   "metadata": {
    "jp-MarkdownHeadingCollapsed": true,
    "tags": []
   },
   "source": [
    "Combine All Bitcoin data:"
   ]
  },
  {
   "cell_type": "code",
   "execution_count": 46,
   "id": "b886b864-c19a-45bd-900e-b9c950e9eebb",
   "metadata": {},
   "outputs": [],
   "source": [
    "btc_2019_all['year'] = 2019\n",
    "btc_2020_all['year'] = 2020\n",
    "btc_2021_all['year'] = 2021\n",
    "btc = pd.concat([btc_2019_all, btc_2020_all, btc_2021_all])"
   ]
  },
  {
   "cell_type": "code",
   "execution_count": 64,
   "id": "3074827d-0395-4651-a4dd-b5b82cebee42",
   "metadata": {},
   "outputs": [
    {
     "data": {
      "text/html": [
       "<div>\n",
       "<style scoped>\n",
       "    .dataframe tbody tr th:only-of-type {\n",
       "        vertical-align: middle;\n",
       "    }\n",
       "\n",
       "    .dataframe tbody tr th {\n",
       "        vertical-align: top;\n",
       "    }\n",
       "\n",
       "    .dataframe thead th {\n",
       "        text-align: right;\n",
       "    }\n",
       "</style>\n",
       "<table border=\"1\" class=\"dataframe\">\n",
       "  <thead>\n",
       "    <tr style=\"text-align: right;\">\n",
       "      <th></th>\n",
       "      <th>selftext</th>\n",
       "      <th>subreddit</th>\n",
       "      <th>title</th>\n",
       "      <th>year</th>\n",
       "    </tr>\n",
       "  </thead>\n",
       "  <tbody>\n",
       "    <tr>\n",
       "      <th>0</th>\n",
       "      <td>Assuming btc becomes the next global reserve c...</td>\n",
       "      <td>Bitcoin</td>\n",
       "      <td>How do you think the future will play out?</td>\n",
       "      <td>2021</td>\n",
       "    </tr>\n",
       "    <tr>\n",
       "      <th>1</th>\n",
       "      <td>Hey my wsb friends, I know some of you already...</td>\n",
       "      <td>Bitcoin</td>\n",
       "      <td>WE LIKE THE COIN!</td>\n",
       "      <td>2021</td>\n",
       "    </tr>\n",
       "    <tr>\n",
       "      <th>2</th>\n",
       "      <td>A friendly reminder - don't share any personal...</td>\n",
       "      <td>Bitcoin</td>\n",
       "      <td>Do not doxx yoself!</td>\n",
       "      <td>2021</td>\n",
       "    </tr>\n",
       "    <tr>\n",
       "      <th>3</th>\n",
       "      <td></td>\n",
       "      <td>Bitcoin</td>\n",
       "      <td>As Bitcoin’s Price Surges, Affluent Investors ...</td>\n",
       "      <td>2021</td>\n",
       "    </tr>\n",
       "    <tr>\n",
       "      <th>4</th>\n",
       "      <td>Would you just need to cash out your position?...</td>\n",
       "      <td>Bitcoin</td>\n",
       "      <td>What would happen to peoples bitcoin if Robinh...</td>\n",
       "      <td>2021</td>\n",
       "    </tr>\n",
       "    <tr>\n",
       "      <th>...</th>\n",
       "      <td>...</td>\n",
       "      <td>...</td>\n",
       "      <td>...</td>\n",
       "      <td>...</td>\n",
       "    </tr>\n",
       "    <tr>\n",
       "      <th>95</th>\n",
       "      <td></td>\n",
       "      <td>Bitcoin</td>\n",
       "      <td>America’s fifth-largest bank launches crypto c...</td>\n",
       "      <td>2021</td>\n",
       "    </tr>\n",
       "    <tr>\n",
       "      <th>96</th>\n",
       "      <td></td>\n",
       "      <td>Bitcoin</td>\n",
       "      <td>PUMP IT UP TO THE MOON.</td>\n",
       "      <td>2021</td>\n",
       "    </tr>\n",
       "    <tr>\n",
       "      <th>97</th>\n",
       "      <td></td>\n",
       "      <td>Bitcoin</td>\n",
       "      <td>For the love of God somebody PLEASE post an aw...</td>\n",
       "      <td>2021</td>\n",
       "    </tr>\n",
       "    <tr>\n",
       "      <th>98</th>\n",
       "      <td>NaN</td>\n",
       "      <td>Bitcoin</td>\n",
       "      <td>I HATE GREEN CANDLES!!!</td>\n",
       "      <td>2021</td>\n",
       "    </tr>\n",
       "    <tr>\n",
       "      <th>99</th>\n",
       "      <td>With Bitcoin back above $1T market cap, I wond...</td>\n",
       "      <td>Bitcoin</td>\n",
       "      <td>$1 Trillion Mkt Cap implications</td>\n",
       "      <td>2021</td>\n",
       "    </tr>\n",
       "  </tbody>\n",
       "</table>\n",
       "<p>500 rows × 4 columns</p>\n",
       "</div>"
      ],
      "text/plain": [
       "                                             selftext subreddit  \\\n",
       "0   Assuming btc becomes the next global reserve c...   Bitcoin   \n",
       "1   Hey my wsb friends, I know some of you already...   Bitcoin   \n",
       "2   A friendly reminder - don't share any personal...   Bitcoin   \n",
       "3                                                       Bitcoin   \n",
       "4   Would you just need to cash out your position?...   Bitcoin   \n",
       "..                                                ...       ...   \n",
       "95                                                      Bitcoin   \n",
       "96                                                      Bitcoin   \n",
       "97                                                      Bitcoin   \n",
       "98                                                NaN   Bitcoin   \n",
       "99  With Bitcoin back above $1T market cap, I wond...   Bitcoin   \n",
       "\n",
       "                                                title  year  \n",
       "0          How do you think the future will play out?  2021  \n",
       "1                                   WE LIKE THE COIN!  2021  \n",
       "2                                 Do not doxx yoself!  2021  \n",
       "3   As Bitcoin’s Price Surges, Affluent Investors ...  2021  \n",
       "4   What would happen to peoples bitcoin if Robinh...  2021  \n",
       "..                                                ...   ...  \n",
       "95  America’s fifth-largest bank launches crypto c...  2021  \n",
       "96                            PUMP IT UP TO THE MOON.  2021  \n",
       "97  For the love of God somebody PLEASE post an aw...  2021  \n",
       "98                            I HATE GREEN CANDLES!!!  2021  \n",
       "99                   $1 Trillion Mkt Cap implications  2021  \n",
       "\n",
       "[500 rows x 4 columns]"
      ]
     },
     "execution_count": 64,
     "metadata": {},
     "output_type": "execute_result"
    }
   ],
   "source": [
    "btc_2021_all"
   ]
  },
  {
   "cell_type": "markdown",
   "id": "8d831333-6c7b-4b02-9695-3b8830adff1a",
   "metadata": {},
   "source": [
    "Combine All Dogecoin Data:"
   ]
  },
  {
   "cell_type": "code",
   "execution_count": 48,
   "id": "5fba1dd2-6448-4dc6-8177-54cb0d27ad46",
   "metadata": {},
   "outputs": [],
   "source": [
    "doge_2019_all['year'] = 2019\n",
    "doge_2020_all['year'] = 2020\n",
    "doge_2021_all['year'] = 2021\n",
    "doge = pd.concat([doge_2019_all, doge_2020_all, doge_2021_all])"
   ]
  },
  {
   "cell_type": "markdown",
   "id": "8ddd48c9-4bbb-4761-b96f-0a44b2c2f4ff",
   "metadata": {},
   "source": [
    "### 4. Combine Bitcoin and Dogecoin Data"
   ]
  },
  {
   "cell_type": "code",
   "execution_count": 50,
   "id": "00a0bc21-3b2e-48ff-a7e1-5e6ecaf14996",
   "metadata": {},
   "outputs": [],
   "source": [
    "crypto = pd.concat([btc, doge])"
   ]
  },
  {
   "cell_type": "code",
   "execution_count": 52,
   "id": "2e4b13f5-fe95-45a7-aeb2-c1d97f0230c2",
   "metadata": {},
   "outputs": [],
   "source": [
    "# create target column\n",
    "crypto['is_btc'] = [1 if i == 'Bitcoin' else 0 for i in crypto['subreddit']]"
   ]
  },
  {
   "cell_type": "code",
   "execution_count": 53,
   "id": "4d141aff-8075-4d55-adda-e32556a0cd5f",
   "metadata": {},
   "outputs": [],
   "source": [
    "crypto.drop(columns = ['subreddit'], inplace = True)"
   ]
  },
  {
   "cell_type": "code",
   "execution_count": 54,
   "id": "d5d533bf-1058-46e4-881c-6e7d2e07993e",
   "metadata": {
    "tags": []
   },
   "outputs": [],
   "source": [
    "crypto.rename({'selftext': 'text'}, axis='columns', inplace = True)"
   ]
  },
  {
   "cell_type": "markdown",
   "id": "e4248bb1-4bd5-431e-9fc2-13370e8a7fef",
   "metadata": {},
   "source": [
    "### 5. Export to CSV"
   ]
  },
  {
   "cell_type": "code",
   "execution_count": 125,
   "id": "ce611fda-1dcd-4c51-8b44-b82361eaa6b1",
   "metadata": {},
   "outputs": [],
   "source": [
    "crypto.to_csv('../data/crypto.csv', index=False)"
   ]
  }
 ],
 "metadata": {
  "kernelspec": {
   "display_name": "Python 3 (ipykernel)",
   "language": "python",
   "name": "python3"
  },
  "language_info": {
   "codemirror_mode": {
    "name": "ipython",
    "version": 3
   },
   "file_extension": ".py",
   "mimetype": "text/x-python",
   "name": "python",
   "nbconvert_exporter": "python",
   "pygments_lexer": "ipython3",
   "version": "3.9.7"
  }
 },
 "nbformat": 4,
 "nbformat_minor": 5
}
